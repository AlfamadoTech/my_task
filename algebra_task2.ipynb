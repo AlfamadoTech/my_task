{
 "cells": [
  {
   "cell_type": "markdown",
   "id": "73eb691a",
   "metadata": {},
   "source": [
    "# ABDULMALIK ADEDOTUN CLASS TASK 2\n",
    "### Question 1\n",
    "Identify the number of rows and columns in each matrix<br>\n",
    "A <br>[2 -1 3]<br>\n",
    "    [0  4 1]\n",
    "\n",
    "B <br>[1 2]<br>\n",
    "    [-2 0]<br>\n",
    "    [5 -3]\n",
    "\n",
    "### Answer\n",
    "The first matrix A is a 2 X 3 marix, which means there are 2 rows and 3 columns<br>\n",
    "The second matrix B is a 3 x 2 matrix, which means there are 3 rows and 2 columns"
   ]
  },
  {
   "cell_type": "markdown",
   "id": "8a5eba4f",
   "metadata": {},
   "source": [
    "### Question 2\n",
    "Determine whether the matrices can be multiplied. If so, specify whether it's (AB), (BA), or both.\n",
    "\n",
    "### Answer\n",
    "Matrix A is a 2 x 3 and matrix B is a 3 x 2, we check if AB is possible, the column in A must be equal to row B. Using that we can see Matrix A column is 3 and the matrix B row is 3, which means they are equal and our resulting matrix (AB) would give us a 2 x 2 matrix.\n",
    "\n",
    "Matrix B is a 3 x 2 and matrix A is a 2 x 3, we check if BA is possible, the column in B must be equal to row A. Using that we can see Matrix B column is 2 and the matrix A row is 2, which means they are equal and our resulting matrix (BA) would give us a 3 x 3 matrix."
   ]
  },
  {
   "cell_type": "markdown",
   "id": "e24c0b60",
   "metadata": {},
   "source": [
    "### Question 3\n",
    "If the multiplication is defined, complete the resulting matrix.\n",
    "\n",
    "### Answer\n",
    "A <br>[2 -1 3]<br>\n",
    "    [0  4 1]\n",
    "\n",
    "B <br>[1 2]<br>\n",
    "    [-2 0]<br>\n",
    "    [5 -3]\n",
    "\n",
    "AB = <br>[(2*1) + (-1*-2) + (3*5), (2*2) + (-1*0) + (3*-3)]<br>\n",
    "     [(0*1) + (4*-2) + (1*5), (0*2) + (4*0) + (1*-3)]\n",
    "\n",
    "    = [2+2+15, 4+0-9]\n",
    "      [0-8+5, 0+0-3]\n",
    "\n",
    "    = [19 -5]\n",
    "      [-3 -3]\n",
    "\n",
    "BA = <br>[(1*2) + (2*0), (1*-1) + (2*4), (1*3) + (2*1)]<br>\n",
    "     [(-2*2) + (0*0), (-2*-1) + (0*4), (-2*3) + (0*1)]<br>\n",
    "     [(5*2) + (-3*0), (5*-1) + (-3*4), (5*3) + (-3*1)]\n",
    "\n",
    "    = [2+0, -1+8, 3+2]\n",
    "      [-4+0, 2+0, -6+0]\n",
    "      [10+0, -5-12, 15-3]\n",
    "\n",
    "    = [2 7 5]\n",
    "      [-4 2 -6]\n",
    "      [10 -17 12]\n"
   ]
  },
  {
   "cell_type": "code",
   "execution_count": 4,
   "id": "a8c68656",
   "metadata": {},
   "outputs": [
    {
     "name": "stdout",
     "output_type": "stream",
     "text": [
      "Multiplication of matrix A by matrix B =\n",
      "[[19 -5]\n",
      " [-3 -3]]\n",
      "Multiplication of matrix B by matrix A =\n",
      "[[  2   7   5]\n",
      " [ -4   2  -6]\n",
      " [ 10 -17  12]]\n"
     ]
    }
   ],
   "source": [
    "import numpy as np\n",
    "\n",
    "# Declaring the first matrix which is a 2 x 3 matrix\n",
    "matrix_A = np.array([[2, -1, 3],\n",
    "                    [0, 4, 1]])\n",
    "\n",
    "# Declaring the second matrix which is a 3 x 2 matrix\n",
    "matrix_B = np.array([[1, 2],\n",
    "                    [-2, 0],\n",
    "                    [5, -3]])\n",
    "\n",
    "# multiplying matrix A by matrix B\n",
    "matrix_AB = matrix_A @ matrix_B\n",
    "print(f\"Multiplication of matrix A by matrix B =\\n{matrix_AB}\")\n",
    "\n",
    "# multiplying matrix B by matrix A\n",
    "matrix_BA = matrix_B @ matrix_A\n",
    "print(f\"Multiplication of matrix B by matrix A =\\n{matrix_BA}\")\n",
    "\n"
   ]
  }
 ],
 "metadata": {
  "kernelspec": {
   "display_name": "Python 3",
   "language": "python",
   "name": "python3"
  },
  "language_info": {
   "codemirror_mode": {
    "name": "ipython",
    "version": 3
   },
   "file_extension": ".py",
   "mimetype": "text/x-python",
   "name": "python",
   "nbconvert_exporter": "python",
   "pygments_lexer": "ipython3",
   "version": "3.13.5"
  }
 },
 "nbformat": 4,
 "nbformat_minor": 5
}
